{
 "cells": [
  {
   "cell_type": "code",
   "execution_count": 2,
   "metadata": {
    "autoscroll": false,
    "ein.hycell": false,
    "ein.tags": "worksheet-0",
    "slideshow": {
     "slide_type": "-"
    }
   },
   "outputs": [],
   "source": [
    "import tensorflow as tf\n",
    "import convert\n",
    "import os\n",
    "import matplotlib.pyplot as plt\n",
    "import numpy as np\n",
    "%matplotlib inline"
   ]
  },
  {
   "cell_type": "markdown",
   "metadata": {},
   "source": [
    "# Beginning of kern-based data collection\n",
    "\n",
    "## Processing of data\n",
    "**WARNING - data 0 is not midi 0!!!**\n",
    "- Data is filtered to only include notes between MIDI_LOWER_FILTER and MIDI_HIGHER_FILTER\n",
    "\n",
    "## Explanation of model\n",
    "- Each piece will be taken and split into $128 \\times 128$ sections. This makes for sections of 10 bars. These sections will be sampled consecutively and some may have padding attached to them at the end.\n",
    "- A pool of these will be created as the train and test data for the VAE.\n",
    "- Finally, each chorale can be split into sequences of these encodings, and an LSTM can be used to generate them."
   ]
  },
  {
   "cell_type": "code",
   "execution_count": 3,
   "metadata": {},
   "outputs": [],
   "source": [
    "# import the data\n",
    "orig_data = []\n",
    "for filename in os.listdir(convert.PARENT_DIR):\n",
    "    if \"chor\" in filename:\n",
    "        chor = convert.hum_encode_note_array(convert.PARENT_DIR + filename)\n",
    "        orig_data.append(chor)"
   ]
  },
  {
   "cell_type": "code",
   "execution_count": 4,
   "metadata": {},
   "outputs": [
    {
     "data": {
      "text/plain": [
       "<BarContainer object of 128 artists>"
      ]
     },
     "execution_count": 4,
     "metadata": {},
     "output_type": "execute_result"
    },
    {
     "data": {
      "image/png": "[encoded data removed]",
      "text/plain": [
       "<Figure size 432x288 with 1 Axes>"
      ]
     },
     "metadata": {},
     "output_type": "display_data"
    }
   ],
   "source": [
    "# make plot of count of all notes\n",
    "notes = np.zeros(128)\n",
    "for chor in orig_data:\n",
    "    notes += chor.sum(0)\n",
    "    \n",
    "plt.bar(np.arange(128), np.log(notes+1))"
   ]
  },
  {
   "cell_type": "code",
   "execution_count": 5,
   "metadata": {},
   "outputs": [],
   "source": [
    "# filter and transpose the data\n",
    "MIDI_LOWER_BOUND = 30\n",
    "MIDI_HIGHER_BOUND = 90\n",
    "\n",
    "data = []\n",
    "for chor in orig_data:\n",
    "    data.append(chor[:, MIDI_LOWER_BOUND:MIDI_HIGHER_BOUND].T)"
   ]
  },
  {
   "cell_type": "code",
   "execution_count": 6,
   "metadata": {},
   "outputs": [
    {
     "data": {
      "text/plain": [
       "(array([  7.,  65., 147.,  80.,  37.,  17.,   3.,   6.,   3.,   1.,   1.,\n",
       "          0.,   1.,   0.,   0.,   0.,   1.,   0.,   0.,   1.]),\n",
       " array([ 24. ,  42.4,  60.8,  79.2,  97.6, 116. , 134.4, 152.8, 171.2,\n",
       "        189.6, 208. , 226.4, 244.8, 263.2, 281.6, 300. , 318.4, 336.8,\n",
       "        355.2, 373.6, 392. ]),\n",
       " <a list of 20 Patch objects>)"
      ]
     },
     "execution_count": 6,
     "metadata": {},
     "output_type": "execute_result"
    },
    {
     "data": {
      "image/png": "[encoded data removed]",
      "text/plain": [
       "<Figure size 432x288 with 1 Axes>"
      ]
     },
     "metadata": {},
     "output_type": "display_data"
    }
   ],
   "source": [
    "# find lengths of chorale\n",
    "lengths = []\n",
    "for chor in orig_data:\n",
    "    lengths.append(chor.shape[0])\n",
    "plt.hist(lengths, bins=20)"
   ]
  },
  {
   "cell_type": "code",
   "execution_count": 7,
   "metadata": {},
   "outputs": [
    {
     "name": "stdout",
     "output_type": "stream",
     "text": [
      "339 370\n"
     ]
    },
    {
     "data": {
      "image/png": "[encoded data removed]",
      "text/plain": [
       "<Figure size 432x288 with 1 Axes>"
      ]
     },
     "metadata": {},
     "output_type": "display_data"
    }
   ],
   "source": [
    "# cumulative distribution\n",
    "lengths = sorted(lengths)\n",
    "\n",
    "def percentage(length):\n",
    "    return sum([1 if i < length else 0 for i in lengths])\n",
    "\n",
    "x = range(400)\n",
    "y = [percentage(i) for i in x]\n",
    "\n",
    "plt.plot(x, y)\n",
    "\n",
    "print(percentage(120), len(lengths))"
   ]
  },
  {
   "cell_type": "code",
   "execution_count": 8,
   "metadata": {},
   "outputs": [],
   "source": [
    "IMAGE_WIDTH = 120\n",
    "\n",
    "# process data\n",
    "def padding(array, width):\n",
    "    zero_width = max(width - array.shape[1], 0)\n",
    "    zeros = np.zeros((array.shape[0], zero_width))\n",
    "    return np.c_[array, zeros]\n",
    "\n",
    "to_delete = []\n",
    "for i, chor in enumerate(data):\n",
    "    if chor.shape[1] > IMAGE_WIDTH:\n",
    "        to_delete.append(i)\n",
    "    else:\n",
    "        data[i] = padding(chor, IMAGE_WIDTH).reshape(60, 120, 1)\n",
    "        \n",
    "for i in reversed(to_delete):\n",
    "    del data[i]"
   ]
  },
  {
   "cell_type": "code",
   "execution_count": 9,
   "metadata": {},
   "outputs": [
    {
     "name": "stdout",
     "output_type": "stream",
     "text": [
      "338\n",
      "(60, 120, 1)\n"
     ]
    },
    {
     "data": {
      "text/plain": [
       "<matplotlib.image.AxesImage at 0x7f067c9d20b8>"
      ]
     },
     "execution_count": 9,
     "metadata": {},
     "output_type": "execute_result"
    },
    {
     "data": {
      "image/png": "[encoded data removed]",
      "text/plain": [
       "<Figure size 576x288 with 1 Axes>"
      ]
     },
     "metadata": {},
     "output_type": "display_data"
    }
   ],
   "source": [
    "# show a random data point\n",
    "import random\n",
    "i = random.randint(0, len(data) - 1)\n",
    "print(i)\n",
    "print(data[i].shape)\n",
    "plt.matshow(data[i].reshape((60, 120)))"
   ]
  },
  {
   "cell_type": "code",
   "execution_count": 10,
   "metadata": {},
   "outputs": [],
   "source": [
    "# create train / test data\n",
    "TRAIN_TEST_RATIO = 0.85\n",
    "random.shuffle(data)\n",
    "\n",
    "divider = int(TRAIN_TEST_RATIO * len(data))\n",
    "train_data = data[:divider]\n",
    "test_data = data[divider:]"
   ]
  },
  {
   "cell_type": "code",
   "execution_count": 11,
   "metadata": {},
   "outputs": [],
   "source": [
    "# create Tensorflow data\n",
    "def create_generator(d):\n",
    "    def iterator():\n",
    "        for item in d:\n",
    "            yield item\n",
    "    return iterator\n",
    "\n",
    "\n",
    "train = tf.data.Dataset.from_generator(create_generator(train_data), output_types=tf.float32, output_shapes=(60, 120, 1))\n",
    "test = tf.data.Dataset.from_generator(create_generator(test_data), output_types=tf.float32, output_shapes=(60, 120, 1))"
   ]
  },
  {
   "cell_type": "code",
   "execution_count": 59,
   "metadata": {},
   "outputs": [
    {
     "name": "stdout",
     "output_type": "stream",
     "text": [
      "[[ 0.13748923  0.04052055]\n",
      " [ 0.05086298 -0.06476959]\n",
      " [ 0.14724533 -0.01139864]\n",
      " [-0.07501528  0.0224586 ]]\n"
     ]
    },
    {
     "data": {
      "image/png": "[encoded data removed]",
      "text/plain": [
       "<Figure size 576x288 with 1 Axes>"
      ]
     },
     "metadata": {},
     "output_type": "display_data"
    }
   ],
   "source": [
    "# create GAN\n",
    "from functools import reduce\n",
    "from operator import mul\n",
    "\n",
    "tf.reset_default_graph()\n",
    "\n",
    "def discriminator(x, reuse, trainable=True):\n",
    "    conv_size = (3, 3)\n",
    "    pool_size = (3, 3)\n",
    "    pool_step = (3, 3)\n",
    "    \n",
    "    conv_activation = tf.nn.tanh\n",
    "    fc_activation = tf.nn.tanh\n",
    "    \n",
    "    def conv2d(filter_size, name, activation=conv_activation):\n",
    "        nonlocal x\n",
    "        x = tf.layers.conv2d(x, 2, conv_size, name=name, activation=activation, reuse=reuse, \n",
    "                             trainable=trainable)\n",
    "        # x = tf.layers.max_pooling2d(x, pool_size, pool_step)\n",
    "        \n",
    "    def dense(out_size, name, activation=fc_activation):\n",
    "        nonlocal x\n",
    "        x = tf.layers.dense(x, out_size, activation=activation, name=name, reuse=reuse, trainable=trainable)\n",
    "    \n",
    "    with tf.variable_scope('discriminator'):\n",
    "        conv2d(2, 'conv1')\n",
    "        conv2d(4, 'conv2')\n",
    "        conv2d(8, 'conv3')\n",
    "        \n",
    "        shape = (tf.shape(x)[0], reduce(mul, x.shape[1:]))\n",
    "        x = tf.reshape(x, shape, name='conv3_reshaped')\n",
    "        \n",
    "        dense(50, 'fc1')\n",
    "        dense(2, 'fc2', None)\n",
    "        \n",
    "    return x\n",
    "    \n",
    "def generator(x, reuse, trainable=True):\n",
    "    conv_size = (3, 3)\n",
    "    pool_size = (3, 3)\n",
    "    pool_step = (3, 3)\n",
    "    \n",
    "    conv_activation = tf.nn.relu\n",
    "    fc_activation = tf.nn.tanh\n",
    "    \n",
    "    def dense(out_size, name):\n",
    "        nonlocal x\n",
    "        x = tf.layers.dense(x, out_size, activation=fc_activation, \n",
    "                            reuse=reuse, name=name, trainable=trainable)\n",
    "        \n",
    "    def conv2d_t(hidden_size, filter_size, stride_size, name):\n",
    "        nonlocal x\n",
    "        x = tf.layers.conv2d_transpose(x, hidden_size, filter_size, stride_size, name=name, \n",
    "                                       padding='same', activation=conv_activation, reuse=reuse,\n",
    "                                      trainable=trainable)\n",
    "    \n",
    "    with tf.variable_scope('generator'):\n",
    "        dense(100, 'fc1')\n",
    "        dense(600, 'fc2')\n",
    "        dense(30 * 60, 'fc3')\n",
    "        \n",
    "        x = tf.reshape(x, (tf.shape(x)[0], 30, 60, 1), name='fc3_reshaped')\n",
    "        \n",
    "        conv2d_t(3, (5, 5), (2, 2), 'conv1')\n",
    "        conv2d_t(1, (5, 5), (1, 1), 'conv2')\n",
    "        \n",
    "    return x\n",
    "        \n",
    "\n",
    "with tf.Session() as sess:\n",
    "    # test discriminator\n",
    "    batch = 2\n",
    "    one_shot = train.repeat().batch(batch).make_one_shot_iterator()\n",
    "    x = one_shot.get_next()\n",
    "    out = discriminator(x, False)\n",
    "    \n",
    "    sess.run(tf.global_variables_initializer())\n",
    "        \n",
    "    # test generator\n",
    "    temp = tf.data.Dataset.from_tensor_slices(np.random.random((50, 50)).astype('float32'))\n",
    "    one_shot = temp.batch(1).make_one_shot_iterator()\n",
    "    out = generator(one_shot.get_next(), False)\n",
    "    sess.run(tf.global_variables_initializer())\n",
    "    for _ in range(1):\n",
    "        output = sess.run(out)\n",
    "        plt.matshow(output.reshape((60, 120)))\n",
    "        \n",
    "    # test generator -> discriminator\n",
    "    dis = discriminator(generator(tf.random_normal((4, 50), dtype=tf.float32), True), True)\n",
    "    print(sess.run(dis))"
   ]
  },
  {
   "cell_type": "code",
   "execution_count": 60,
   "metadata": {},
   "outputs": [],
   "source": [
    "BATCH_SIZE = 20\n",
    "LATENT_SPACE = 50\n",
    "\n",
    "# discriminator data loss function\n",
    "one_shot_train = train.shuffle(7).repeat().batch(BATCH_SIZE).make_one_shot_iterator()\n",
    "labels = tf.constant([[1.0, 0.0] for i in range(BATCH_SIZE)])\n",
    "d_data_loss = tf.losses.softmax_cross_entropy(onehot_labels=labels, logits=discriminator(one_shot_train.get_next(), True))\n",
    "\n",
    "# discriminator generator loss function\n",
    "generated = generator(tf.random_normal(dtype=tf.float32, shape=(BATCH_SIZE, LATENT_SPACE)), True, False)\n",
    "labels = tf.constant([[0.0, 1.0] for i in range(BATCH_SIZE)])\n",
    "d_gen_loss = tf.losses.softmax_cross_entropy(onehot_labels=labels,  logits=discriminator(generated, True))\n",
    "\n",
    "d_loss = d_data_loss + d_gen_loss\n",
    "\n",
    "# generator loss function\n",
    "labels = tf.constant([[1.0, 0.0] for i in range(BATCH_SIZE)])\n",
    "generated = generator(tf.random_normal(dtype=tf.float32, shape=(BATCH_SIZE, LATENT_SPACE)), True)\n",
    "g_loss = tf.losses.softmax_cross_entropy(onehot_labels=labels,  logits=discriminator(generated, True, False))\n",
    "\n",
    "with tf.variable_scope('train'):\n",
    "    d_train = tf.train.GradientDescentOptimizer(name='d_train', learning_rate=0.005).minimize(d_loss)\n",
    "    g_train = tf.train.GradientDescentOptimizer(name='g_train', learning_rate=0.005).minimize(g_loss)\n",
    "\n",
    "sess = tf.Session()\n",
    "sess.run(tf.global_variables_initializer())"
   ]
  },
  {
   "cell_type": "code",
   "execution_count": 62,
   "metadata": {},
   "outputs": [
    {
     "name": "stdout",
     "output_type": "stream",
     "text": [
      "Step 0, DLoss: 0.6986441016197205, GLoss: 0.6862080693244934\n",
      "Step 50, DLoss: 0.6967388391494751, GLoss: 0.6901130080223083\n",
      "Step 100, DLoss: 0.699329137802124, GLoss: 0.6878823637962341\n",
      "Step 150, DLoss: 0.6970142722129822, GLoss: 0.6868833899497986\n",
      "Step 200, DLoss: 0.6975462436676025, GLoss: 0.6883568167686462\n",
      "Step 250, DLoss: 0.6974697709083557, GLoss: 0.6901363730430603\n",
      "Step 300, DLoss: 0.6971004605293274, GLoss: 0.688072919845581\n",
      "Step 350, DLoss: 0.698800265789032, GLoss: 0.6885167956352234\n",
      "Step 400, DLoss: 0.6988293528556824, GLoss: 0.6895326972007751\n",
      "Step 450, DLoss: 0.6980645656585693, GLoss: 0.6903257966041565\n",
      "Step 500, DLoss: 0.6973084211349487, GLoss: 0.6896142959594727\n",
      "Step 550, DLoss: 0.6968076229095459, GLoss: 0.6883285641670227\n",
      "Step 600, DLoss: 0.6976205110549927, GLoss: 0.6882084012031555\n",
      "Step 650, DLoss: 0.6973059177398682, GLoss: 0.6895768642425537\n",
      "Step 700, DLoss: 0.6974157691001892, GLoss: 0.689335286617279\n",
      "Step 750, DLoss: 0.698653519153595, GLoss: 0.6896600127220154\n",
      "Step 800, DLoss: 0.6977211236953735, GLoss: 0.6897267699241638\n",
      "Step 850, DLoss: 0.6975492835044861, GLoss: 0.6896263360977173\n",
      "Step 900, DLoss: 0.6964820623397827, GLoss: 0.6889386177062988\n",
      "Step 950, DLoss: 0.6987372636795044, GLoss: 0.6886215806007385\n",
      "Step 1000, DLoss: 0.6969732046127319, GLoss: 0.686732292175293\n",
      "Step 1050, DLoss: 0.6982422471046448, GLoss: 0.6885091066360474\n",
      "Step 1100, DLoss: 0.6974969506263733, GLoss: 0.6880754828453064\n",
      "Step 1150, DLoss: 0.699998140335083, GLoss: 0.6889878511428833\n",
      "Step 1200, DLoss: 0.6965013742446899, GLoss: 0.6929613947868347\n",
      "Step 1250, DLoss: 0.6950647234916687, GLoss: 0.6895060539245605\n",
      "Step 1300, DLoss: 0.6981056332588196, GLoss: 0.689035177230835\n",
      "Step 1350, DLoss: 0.697471559047699, GLoss: 0.690494954586029\n",
      "Step 1400, DLoss: 0.6970989108085632, GLoss: 0.6889788508415222\n",
      "Step 1450, DLoss: 0.6983411312103271, GLoss: 0.689424455165863\n",
      "Step 1500, DLoss: 0.6973901391029358, GLoss: 0.6889969110488892\n",
      "Step 1550, DLoss: 0.6978684067726135, GLoss: 0.6892028450965881\n",
      "Step 1600, DLoss: 0.6971427798271179, GLoss: 0.689330518245697\n",
      "Step 1650, DLoss: 0.6983382105827332, GLoss: 0.6891170144081116\n",
      "Step 1700, DLoss: 0.697106659412384, GLoss: 0.6876753568649292\n",
      "Step 1750, DLoss: 0.6976089477539062, GLoss: 0.6876877546310425\n",
      "Step 1800, DLoss: 0.6972319483757019, GLoss: 0.6887722015380859\n",
      "Step 1850, DLoss: 0.6970232725143433, GLoss: 0.6892681121826172\n",
      "Step 1900, DLoss: 0.6959304213523865, GLoss: 0.6902276277542114\n",
      "Step 1950, DLoss: 0.6981935501098633, GLoss: 0.689271867275238\n",
      "Step 2000, DLoss: 0.6971257328987122, GLoss: 0.6893395185470581\n",
      "Step 2050, DLoss: 0.6969272494316101, GLoss: 0.6895250678062439\n",
      "Step 2100, DLoss: 0.6980122327804565, GLoss: 0.6895164251327515\n",
      "Step 2150, DLoss: 0.6974065899848938, GLoss: 0.6899160742759705\n",
      "Step 2200, DLoss: 0.6984230875968933, GLoss: 0.6912579536437988\n",
      "Step 2250, DLoss: 0.6950284242630005, GLoss: 0.6907022595405579\n",
      "Step 2300, DLoss: 0.6993581056594849, GLoss: 0.689609706401825\n",
      "Step 2350, DLoss: 0.6979952454566956, GLoss: 0.6891540884971619\n",
      "Step 2400, DLoss: 0.6960334181785583, GLoss: 0.6892255544662476\n",
      "Step 2450, DLoss: 0.6983014941215515, GLoss: 0.6896056532859802\n",
      "Step 2500, DLoss: 0.697869062423706, GLoss: 0.6889511942863464\n",
      "Step 2550, DLoss: 0.697695791721344, GLoss: 0.690097987651825\n",
      "Step 2600, DLoss: 0.6984567046165466, GLoss: 0.6894909143447876\n",
      "Step 2650, DLoss: 0.6959046125411987, GLoss: 0.6887317895889282\n",
      "Step 2700, DLoss: 0.6981570720672607, GLoss: 0.6898209452629089\n",
      "Step 2750, DLoss: 0.6969589591026306, GLoss: 0.6891393661499023\n",
      "Step 2800, DLoss: 0.6974425315856934, GLoss: 0.6898671388626099\n",
      "Step 2850, DLoss: 0.6971943974494934, GLoss: 0.6896001100540161\n",
      "Step 2900, DLoss: 0.6964190602302551, GLoss: 0.6903220415115356\n",
      "Step 2950, DLoss: 0.6974403858184814, GLoss: 0.6885218620300293\n",
      "Step 3000, DLoss: 0.6970978379249573, GLoss: 0.6889614462852478\n",
      "Step 3050, DLoss: 0.6975116729736328, GLoss: 0.6895405650138855\n",
      "Step 3100, DLoss: 0.6977114081382751, GLoss: 0.689324676990509\n",
      "Step 3150, DLoss: 0.6971321105957031, GLoss: 0.6891204118728638\n",
      "Step 3200, DLoss: 0.6963025331497192, GLoss: 0.6893262267112732\n",
      "Step 3250, DLoss: 0.6977339386940002, GLoss: 0.6901639103889465\n",
      "Step 3300, DLoss: 0.697826087474823, GLoss: 0.689846932888031\n",
      "Step 3350, DLoss: 0.6973392367362976, GLoss: 0.6892567276954651\n",
      "Step 3400, DLoss: 0.6973499059677124, GLoss: 0.6895837783813477\n",
      "Step 3450, DLoss: 0.6972103714942932, GLoss: 0.6899543404579163\n",
      "Step 3500, DLoss: 0.6971337199211121, GLoss: 0.6899320483207703\n",
      "Step 3550, DLoss: 0.6969206929206848, GLoss: 0.6892620921134949\n",
      "Step 3600, DLoss: 0.6971949934959412, GLoss: 0.688685953617096\n",
      "Step 3650, DLoss: 0.6975758075714111, GLoss: 0.6895164847373962\n",
      "Step 3700, DLoss: 0.6972927451133728, GLoss: 0.689186155796051\n",
      "Step 3750, DLoss: 0.6969824433326721, GLoss: 0.6900231242179871\n",
      "Step 3800, DLoss: 0.6968768835067749, GLoss: 0.6892220377922058\n",
      "Step 3850, DLoss: 0.6971165537834167, GLoss: 0.6894540190696716\n",
      "Step 3900, DLoss: 0.6972209811210632, GLoss: 0.6897730231285095\n",
      "Step 3950, DLoss: 0.6971263885498047, GLoss: 0.6891334652900696\n",
      "Step 4000, DLoss: 0.6975023746490479, GLoss: 0.6891342997550964\n",
      "Step 4050, DLoss: 0.6968348026275635, GLoss: 0.689431369304657\n",
      "Step 4100, DLoss: 0.6968406438827515, GLoss: 0.6885918974876404\n",
      "Step 4150, DLoss: 0.697720468044281, GLoss: 0.6895254850387573\n",
      "Step 4200, DLoss: 0.6967395544052124, GLoss: 0.6895214915275574\n",
      "Step 4250, DLoss: 0.6979848146438599, GLoss: 0.6893714070320129\n",
      "Step 4300, DLoss: 0.6975498199462891, GLoss: 0.6893989443778992\n",
      "Step 4350, DLoss: 0.6973269581794739, GLoss: 0.6894597411155701\n",
      "Step 4400, DLoss: 0.6970304250717163, GLoss: 0.6900263428688049\n",
      "Step 4450, DLoss: 0.6974859833717346, GLoss: 0.6893712878227234\n",
      "Step 4500, DLoss: 0.6975816488265991, GLoss: 0.6894310116767883\n",
      "Step 4550, DLoss: 0.6976515054702759, GLoss: 0.6895806193351746\n",
      "Step 4600, DLoss: 0.6962684392929077, GLoss: 0.6897678375244141\n",
      "Step 4650, DLoss: 0.6967010498046875, GLoss: 0.6896052360534668\n",
      "Step 4700, DLoss: 0.6972649097442627, GLoss: 0.6888582110404968\n",
      "Step 4750, DLoss: 0.6968921422958374, GLoss: 0.6901382803916931\n",
      "Step 4800, DLoss: 0.6972635388374329, GLoss: 0.6894533038139343\n",
      "Step 4850, DLoss: 0.6971845030784607, GLoss: 0.6894882321357727\n",
      "Step 4900, DLoss: 0.6970838308334351, GLoss: 0.6891342401504517\n",
      "Step 4950, DLoss: 0.6973633170127869, GLoss: 0.6900045275688171\n",
      "Step 5000, DLoss: 0.6968450546264648, GLoss: 0.6895307302474976\n",
      "Step 5050, DLoss: 0.6969574093818665, GLoss: 0.6887689828872681\n",
      "Step 5100, DLoss: 0.6971263885498047, GLoss: 0.689816951751709\n",
      "Step 5150, DLoss: 0.6969899535179138, GLoss: 0.689944326877594\n",
      "Step 5200, DLoss: 0.6968611478805542, GLoss: 0.68952476978302\n",
      "Step 5250, DLoss: 0.6972082853317261, GLoss: 0.6900073885917664\n",
      "Step 5300, DLoss: 0.6971232891082764, GLoss: 0.6898488402366638\n",
      "Step 5350, DLoss: 0.696850597858429, GLoss: 0.6893131732940674\n",
      "Step 5400, DLoss: 0.6975692510604858, GLoss: 0.6889229416847229\n",
      "Step 5450, DLoss: 0.696932852268219, GLoss: 0.6898061037063599\n",
      "Step 5500, DLoss: 0.6968661546707153, GLoss: 0.6892172694206238\n",
      "Step 5550, DLoss: 0.6970096230506897, GLoss: 0.6895501017570496\n",
      "Step 5600, DLoss: 0.6972175240516663, GLoss: 0.6896194815635681\n",
      "Step 5650, DLoss: 0.6969465017318726, GLoss: 0.6899746060371399\n",
      "Step 5700, DLoss: 0.6973806619644165, GLoss: 0.6901562809944153\n",
      "Step 5750, DLoss: 0.6973682641983032, GLoss: 0.6897504329681396\n",
      "Step 5800, DLoss: 0.6972134709358215, GLoss: 0.6891789436340332\n",
      "Step 5850, DLoss: 0.6974248886108398, GLoss: 0.6895729899406433\n",
      "Step 5900, DLoss: 0.6973515152931213, GLoss: 0.6894882321357727\n",
      "Step 5950, DLoss: 0.6967383623123169, GLoss: 0.6895444989204407\n",
      "Step 6000, DLoss: 0.6970610618591309, GLoss: 0.6897174715995789\n",
      "Step 6050, DLoss: 0.6968407034873962, GLoss: 0.6895341277122498\n",
      "Step 6100, DLoss: 0.6965945363044739, GLoss: 0.6890562176704407\n",
      "Step 6150, DLoss: 0.6967490315437317, GLoss: 0.6897928714752197\n",
      "Step 6200, DLoss: 0.6969702839851379, GLoss: 0.68935626745224\n",
      "Step 6250, DLoss: 0.6970988512039185, GLoss: 0.689792811870575\n",
      "Step 6300, DLoss: 0.6965160965919495, GLoss: 0.689386248588562\n",
      "Step 6350, DLoss: 0.6966133713722229, GLoss: 0.6895881295204163\n",
      "Step 6400, DLoss: 0.6971069574356079, GLoss: 0.6895958185195923\n"
     ]
    },
    {
     "name": "stdout",
     "output_type": "stream",
     "text": [
      "Step 6450, DLoss: 0.6970875859260559, GLoss: 0.6898552775382996\n",
      "Step 6500, DLoss: 0.6963488459587097, GLoss: 0.6899434924125671\n",
      "Step 6550, DLoss: 0.696526050567627, GLoss: 0.6895381808280945\n",
      "Step 6600, DLoss: 0.696793258190155, GLoss: 0.6896364092826843\n",
      "Step 6650, DLoss: 0.6977041959762573, GLoss: 0.6887363791465759\n",
      "Step 6700, DLoss: 0.6971601247787476, GLoss: 0.6891013979911804\n",
      "Step 6750, DLoss: 0.6965022087097168, GLoss: 0.6891897320747375\n",
      "Step 6800, DLoss: 0.6963562965393066, GLoss: 0.689801037311554\n",
      "Step 6850, DLoss: 0.6973042488098145, GLoss: 0.6898109316825867\n",
      "Step 6900, DLoss: 0.6969775557518005, GLoss: 0.6891295313835144\n",
      "Step 6950, DLoss: 0.6965274810791016, GLoss: 0.6897376179695129\n",
      "Step 7000, DLoss: 0.6973633170127869, GLoss: 0.6890848278999329\n",
      "Step 7050, DLoss: 0.69700026512146, GLoss: 0.6901054382324219\n",
      "Step 7100, DLoss: 0.6971355676651001, GLoss: 0.6894614696502686\n",
      "Step 7150, DLoss: 0.6971001029014587, GLoss: 0.6901466846466064\n",
      "Step 7200, DLoss: 0.6966113448143005, GLoss: 0.6890652179718018\n",
      "Step 7250, DLoss: 0.6967714428901672, GLoss: 0.689182460308075\n",
      "Step 7300, DLoss: 0.6966805458068848, GLoss: 0.6895629167556763\n",
      "Step 7350, DLoss: 0.6968463063240051, GLoss: 0.6897792816162109\n",
      "Step 7400, DLoss: 0.6970421075820923, GLoss: 0.6902951002120972\n",
      "Step 7450, DLoss: 0.697013795375824, GLoss: 0.6893391609191895\n",
      "Step 7500, DLoss: 0.6969417333602905, GLoss: 0.6896370053291321\n",
      "Step 7550, DLoss: 0.696944534778595, GLoss: 0.6899018287658691\n",
      "Step 7600, DLoss: 0.6973215341567993, GLoss: 0.6890907883644104\n",
      "Step 7650, DLoss: 0.6962850093841553, GLoss: 0.6895084381103516\n",
      "Step 7700, DLoss: 0.6962737441062927, GLoss: 0.6900714039802551\n",
      "Step 7750, DLoss: 0.6964972019195557, GLoss: 0.6897714734077454\n",
      "Step 7800, DLoss: 0.6970344185829163, GLoss: 0.6892439126968384\n",
      "Step 7850, DLoss: 0.696906328201294, GLoss: 0.6897509098052979\n",
      "Step 7900, DLoss: 0.6967658996582031, GLoss: 0.6893643140792847\n",
      "Step 7950, DLoss: 0.6970643997192383, GLoss: 0.6893396377563477\n",
      "Step 8000, DLoss: 0.6968113780021667, GLoss: 0.6893808245658875\n",
      "Step 8050, DLoss: 0.6965595483779907, GLoss: 0.6894620060920715\n",
      "Step 8100, DLoss: 0.697219729423523, GLoss: 0.6899431347846985\n",
      "Step 8150, DLoss: 0.697213888168335, GLoss: 0.6892268061637878\n",
      "Step 8200, DLoss: 0.6964215636253357, GLoss: 0.6896678805351257\n",
      "Step 8250, DLoss: 0.6968513131141663, GLoss: 0.6896494030952454\n",
      "Step 8300, DLoss: 0.6969074606895447, GLoss: 0.6899375915527344\n",
      "Step 8350, DLoss: 0.6968380212783813, GLoss: 0.6892792582511902\n",
      "Step 8400, DLoss: 0.6963357925415039, GLoss: 0.6891812682151794\n",
      "Step 8450, DLoss: 0.6966130137443542, GLoss: 0.6896106600761414\n",
      "Step 8500, DLoss: 0.6972717642784119, GLoss: 0.6891984939575195\n",
      "Step 8550, DLoss: 0.6967790722846985, GLoss: 0.6893556714057922\n",
      "Step 8600, DLoss: 0.6965438723564148, GLoss: 0.6898471117019653\n",
      "Step 8650, DLoss: 0.697658360004425, GLoss: 0.6892457008361816\n",
      "Step 8700, DLoss: 0.6970252394676208, GLoss: 0.6895933151245117\n",
      "Step 8750, DLoss: 0.6968492865562439, GLoss: 0.6896902918815613\n",
      "Step 8800, DLoss: 0.6966480612754822, GLoss: 0.6891238689422607\n",
      "Step 8850, DLoss: 0.6971237659454346, GLoss: 0.6894221901893616\n",
      "Step 8900, DLoss: 0.6968740820884705, GLoss: 0.6897227168083191\n",
      "Step 8950, DLoss: 0.6966592669487, GLoss: 0.689352810382843\n",
      "Step 9000, DLoss: 0.6967838406562805, GLoss: 0.6892170906066895\n",
      "Step 9050, DLoss: 0.6967344284057617, GLoss: 0.6897403597831726\n",
      "Step 9100, DLoss: 0.6966482400894165, GLoss: 0.6897211670875549\n",
      "Step 9150, DLoss: 0.696761965751648, GLoss: 0.6894598007202148\n",
      "Step 9200, DLoss: 0.696963369846344, GLoss: 0.6896206736564636\n",
      "Step 9250, DLoss: 0.6972490549087524, GLoss: 0.6895244717597961\n",
      "Step 9300, DLoss: 0.697066068649292, GLoss: 0.689504086971283\n",
      "Step 9350, DLoss: 0.6967359781265259, GLoss: 0.6897798180580139\n",
      "Step 9400, DLoss: 0.6968674659729004, GLoss: 0.6893423199653625\n",
      "Step 9450, DLoss: 0.696919322013855, GLoss: 0.689400851726532\n",
      "Step 9500, DLoss: 0.6967629194259644, GLoss: 0.6896188855171204\n",
      "Step 9550, DLoss: 0.6966412663459778, GLoss: 0.6895877718925476\n",
      "Step 9600, DLoss: 0.6966708302497864, GLoss: 0.6896757483482361\n",
      "Step 9650, DLoss: 0.6970519423484802, GLoss: 0.6898790597915649\n",
      "Step 9700, DLoss: 0.696986734867096, GLoss: 0.6896077990531921\n",
      "Step 9750, DLoss: 0.6966410279273987, GLoss: 0.6897159814834595\n",
      "Step 9800, DLoss: 0.6967116594314575, GLoss: 0.689553439617157\n",
      "Step 9850, DLoss: 0.6971935629844666, GLoss: 0.6896085143089294\n",
      "Step 9900, DLoss: 0.6967340707778931, GLoss: 0.6897428631782532\n",
      "Step 9950, DLoss: 0.6965556144714355, GLoss: 0.6896505355834961\n",
      "Step 10000, DLoss: 0.6968434453010559, GLoss: 0.6898953914642334\n",
      "Step 10050, DLoss: 0.6972339749336243, GLoss: 0.6898635029792786\n",
      "Step 10100, DLoss: 0.696846067905426, GLoss: 0.6896902918815613\n",
      "Step 10150, DLoss: 0.6963024735450745, GLoss: 0.6896312832832336\n"
     ]
    },
    {
     "ename": "KeyboardInterrupt",
     "evalue": "",
     "output_type": "error",
     "traceback": [
      "\u001b[0;31m---------------------------------------------------------------------------\u001b[0m",
      "\u001b[0;31mKeyboardInterrupt\u001b[0m                         Traceback (most recent call last)",
      "\u001b[0;32m<ipython-input-62-24782dba8d3b>\u001b[0m in \u001b[0;36m<module>\u001b[0;34m()\u001b[0m\n\u001b[1;32m     13\u001b[0m         \u001b[0mprint\u001b[0m\u001b[0;34m(\u001b[0m\u001b[0;34m\"Step {}, DLoss: {}, GLoss: {}\"\u001b[0m\u001b[0;34m.\u001b[0m\u001b[0mformat\u001b[0m\u001b[0;34m(\u001b[0m\u001b[0mi\u001b[0m\u001b[0;34m,\u001b[0m \u001b[0mcur_d_loss\u001b[0m\u001b[0;34m,\u001b[0m \u001b[0mcur_g_loss\u001b[0m\u001b[0;34m)\u001b[0m\u001b[0;34m)\u001b[0m\u001b[0;34m\u001b[0m\u001b[0m\n\u001b[1;32m     14\u001b[0m         \u001b[0mg\u001b[0m \u001b[0;34m=\u001b[0m \u001b[0mgenerator\u001b[0m\u001b[0;34m(\u001b[0m\u001b[0mtf\u001b[0m\u001b[0;34m.\u001b[0m\u001b[0mrandom_normal\u001b[0m\u001b[0;34m(\u001b[0m\u001b[0mdtype\u001b[0m\u001b[0;34m=\u001b[0m\u001b[0mtf\u001b[0m\u001b[0;34m.\u001b[0m\u001b[0mfloat32\u001b[0m\u001b[0;34m,\u001b[0m \u001b[0mshape\u001b[0m\u001b[0;34m=\u001b[0m\u001b[0;34m(\u001b[0m\u001b[0;36m1\u001b[0m\u001b[0;34m,\u001b[0m \u001b[0mLATENT_SPACE\u001b[0m\u001b[0;34m)\u001b[0m\u001b[0;34m)\u001b[0m\u001b[0;34m,\u001b[0m \u001b[0;32mTrue\u001b[0m\u001b[0;34m)\u001b[0m\u001b[0;34m\u001b[0m\u001b[0m\n\u001b[0;32m---> 15\u001b[0;31m         \u001b[0moutput\u001b[0m \u001b[0;34m=\u001b[0m \u001b[0msess\u001b[0m\u001b[0;34m.\u001b[0m\u001b[0mrun\u001b[0m\u001b[0;34m(\u001b[0m\u001b[0mg\u001b[0m\u001b[0;34m)\u001b[0m\u001b[0;34m\u001b[0m\u001b[0m\n\u001b[0m\u001b[1;32m     16\u001b[0m         \u001b[0mplt\u001b[0m\u001b[0;34m.\u001b[0m\u001b[0mmatshow\u001b[0m\u001b[0;34m(\u001b[0m\u001b[0moutput\u001b[0m\u001b[0;34m.\u001b[0m\u001b[0mreshape\u001b[0m\u001b[0;34m(\u001b[0m\u001b[0;34m(\u001b[0m\u001b[0;36m60\u001b[0m\u001b[0;34m,\u001b[0m \u001b[0;36m120\u001b[0m\u001b[0;34m)\u001b[0m\u001b[0;34m)\u001b[0m\u001b[0;34m)\u001b[0m\u001b[0;34m\u001b[0m\u001b[0m\n\u001b[1;32m     17\u001b[0m         \u001b[0mplt\u001b[0m\u001b[0;34m.\u001b[0m\u001b[0msavefig\u001b[0m\u001b[0;34m(\u001b[0m\u001b[0;34m'./images/{}.png'\u001b[0m\u001b[0;34m.\u001b[0m\u001b[0mformat\u001b[0m\u001b[0;34m(\u001b[0m\u001b[0mi\u001b[0m\u001b[0;34m)\u001b[0m\u001b[0;34m)\u001b[0m\u001b[0;34m\u001b[0m\u001b[0m\n",
      "\u001b[0;32m~/anaconda3/envs/tf/lib/python3.6/site-packages/tensorflow/python/client/session.py\u001b[0m in \u001b[0;36mrun\u001b[0;34m(self, fetches, feed_dict, options, run_metadata)\u001b[0m\n\u001b[1;32m    898\u001b[0m     \u001b[0;32mtry\u001b[0m\u001b[0;34m:\u001b[0m\u001b[0;34m\u001b[0m\u001b[0m\n\u001b[1;32m    899\u001b[0m       result = self._run(None, fetches, feed_dict, options_ptr,\n\u001b[0;32m--> 900\u001b[0;31m                          run_metadata_ptr)\n\u001b[0m\u001b[1;32m    901\u001b[0m       \u001b[0;32mif\u001b[0m \u001b[0mrun_metadata\u001b[0m\u001b[0;34m:\u001b[0m\u001b[0;34m\u001b[0m\u001b[0m\n\u001b[1;32m    902\u001b[0m         \u001b[0mproto_data\u001b[0m \u001b[0;34m=\u001b[0m \u001b[0mtf_session\u001b[0m\u001b[0;34m.\u001b[0m\u001b[0mTF_GetBuffer\u001b[0m\u001b[0;34m(\u001b[0m\u001b[0mrun_metadata_ptr\u001b[0m\u001b[0;34m)\u001b[0m\u001b[0;34m\u001b[0m\u001b[0m\n",
      "\u001b[0;32m~/anaconda3/envs/tf/lib/python3.6/site-packages/tensorflow/python/client/session.py\u001b[0m in \u001b[0;36m_run\u001b[0;34m(self, handle, fetches, feed_dict, options, run_metadata)\u001b[0m\n\u001b[1;32m   1133\u001b[0m     \u001b[0;32mif\u001b[0m \u001b[0mfinal_fetches\u001b[0m \u001b[0;32mor\u001b[0m \u001b[0mfinal_targets\u001b[0m \u001b[0;32mor\u001b[0m \u001b[0;34m(\u001b[0m\u001b[0mhandle\u001b[0m \u001b[0;32mand\u001b[0m \u001b[0mfeed_dict_tensor\u001b[0m\u001b[0;34m)\u001b[0m\u001b[0;34m:\u001b[0m\u001b[0;34m\u001b[0m\u001b[0m\n\u001b[1;32m   1134\u001b[0m       results = self._do_run(handle, final_targets, final_fetches,\n\u001b[0;32m-> 1135\u001b[0;31m                              feed_dict_tensor, options, run_metadata)\n\u001b[0m\u001b[1;32m   1136\u001b[0m     \u001b[0;32melse\u001b[0m\u001b[0;34m:\u001b[0m\u001b[0;34m\u001b[0m\u001b[0m\n\u001b[1;32m   1137\u001b[0m       \u001b[0mresults\u001b[0m \u001b[0;34m=\u001b[0m \u001b[0;34m[\u001b[0m\u001b[0;34m]\u001b[0m\u001b[0;34m\u001b[0m\u001b[0m\n",
      "\u001b[0;32m~/anaconda3/envs/tf/lib/python3.6/site-packages/tensorflow/python/client/session.py\u001b[0m in \u001b[0;36m_do_run\u001b[0;34m(self, handle, target_list, fetch_list, feed_dict, options, run_metadata)\u001b[0m\n\u001b[1;32m   1314\u001b[0m     \u001b[0;32mif\u001b[0m \u001b[0mhandle\u001b[0m \u001b[0;32mis\u001b[0m \u001b[0;32mNone\u001b[0m\u001b[0;34m:\u001b[0m\u001b[0;34m\u001b[0m\u001b[0m\n\u001b[1;32m   1315\u001b[0m       return self._do_call(_run_fn, feeds, fetches, targets, options,\n\u001b[0;32m-> 1316\u001b[0;31m                            run_metadata)\n\u001b[0m\u001b[1;32m   1317\u001b[0m     \u001b[0;32melse\u001b[0m\u001b[0;34m:\u001b[0m\u001b[0;34m\u001b[0m\u001b[0m\n\u001b[1;32m   1318\u001b[0m       \u001b[0;32mreturn\u001b[0m \u001b[0mself\u001b[0m\u001b[0;34m.\u001b[0m\u001b[0m_do_call\u001b[0m\u001b[0;34m(\u001b[0m\u001b[0m_prun_fn\u001b[0m\u001b[0;34m,\u001b[0m \u001b[0mhandle\u001b[0m\u001b[0;34m,\u001b[0m \u001b[0mfeeds\u001b[0m\u001b[0;34m,\u001b[0m \u001b[0mfetches\u001b[0m\u001b[0;34m)\u001b[0m\u001b[0;34m\u001b[0m\u001b[0m\n",
      "\u001b[0;32m~/anaconda3/envs/tf/lib/python3.6/site-packages/tensorflow/python/client/session.py\u001b[0m in \u001b[0;36m_do_call\u001b[0;34m(self, fn, *args)\u001b[0m\n\u001b[1;32m   1320\u001b[0m   \u001b[0;32mdef\u001b[0m \u001b[0m_do_call\u001b[0m\u001b[0;34m(\u001b[0m\u001b[0mself\u001b[0m\u001b[0;34m,\u001b[0m \u001b[0mfn\u001b[0m\u001b[0;34m,\u001b[0m \u001b[0;34m*\u001b[0m\u001b[0margs\u001b[0m\u001b[0;34m)\u001b[0m\u001b[0;34m:\u001b[0m\u001b[0;34m\u001b[0m\u001b[0m\n\u001b[1;32m   1321\u001b[0m     \u001b[0;32mtry\u001b[0m\u001b[0;34m:\u001b[0m\u001b[0;34m\u001b[0m\u001b[0m\n\u001b[0;32m-> 1322\u001b[0;31m       \u001b[0;32mreturn\u001b[0m \u001b[0mfn\u001b[0m\u001b[0;34m(\u001b[0m\u001b[0;34m*\u001b[0m\u001b[0margs\u001b[0m\u001b[0;34m)\u001b[0m\u001b[0;34m\u001b[0m\u001b[0m\n\u001b[0m\u001b[1;32m   1323\u001b[0m     \u001b[0;32mexcept\u001b[0m \u001b[0merrors\u001b[0m\u001b[0;34m.\u001b[0m\u001b[0mOpError\u001b[0m \u001b[0;32mas\u001b[0m \u001b[0me\u001b[0m\u001b[0;34m:\u001b[0m\u001b[0;34m\u001b[0m\u001b[0m\n\u001b[1;32m   1324\u001b[0m       \u001b[0mmessage\u001b[0m \u001b[0;34m=\u001b[0m \u001b[0mcompat\u001b[0m\u001b[0;34m.\u001b[0m\u001b[0mas_text\u001b[0m\u001b[0;34m(\u001b[0m\u001b[0me\u001b[0m\u001b[0;34m.\u001b[0m\u001b[0mmessage\u001b[0m\u001b[0;34m)\u001b[0m\u001b[0;34m\u001b[0m\u001b[0m\n",
      "\u001b[0;32m~/anaconda3/envs/tf/lib/python3.6/site-packages/tensorflow/python/client/session.py\u001b[0m in \u001b[0;36m_run_fn\u001b[0;34m(feed_dict, fetch_list, target_list, options, run_metadata)\u001b[0m\n\u001b[1;32m   1303\u001b[0m     \u001b[0;32mdef\u001b[0m \u001b[0m_run_fn\u001b[0m\u001b[0;34m(\u001b[0m\u001b[0mfeed_dict\u001b[0m\u001b[0;34m,\u001b[0m \u001b[0mfetch_list\u001b[0m\u001b[0;34m,\u001b[0m \u001b[0mtarget_list\u001b[0m\u001b[0;34m,\u001b[0m \u001b[0moptions\u001b[0m\u001b[0;34m,\u001b[0m \u001b[0mrun_metadata\u001b[0m\u001b[0;34m)\u001b[0m\u001b[0;34m:\u001b[0m\u001b[0;34m\u001b[0m\u001b[0m\n\u001b[1;32m   1304\u001b[0m       \u001b[0;31m# Ensure any changes to the graph are reflected in the runtime.\u001b[0m\u001b[0;34m\u001b[0m\u001b[0;34m\u001b[0m\u001b[0m\n\u001b[0;32m-> 1305\u001b[0;31m       \u001b[0mself\u001b[0m\u001b[0;34m.\u001b[0m\u001b[0m_extend_graph\u001b[0m\u001b[0;34m(\u001b[0m\u001b[0;34m)\u001b[0m\u001b[0;34m\u001b[0m\u001b[0m\n\u001b[0m\u001b[1;32m   1306\u001b[0m       return self._call_tf_sessionrun(\n\u001b[1;32m   1307\u001b[0m           options, feed_dict, fetch_list, target_list, run_metadata)\n",
      "\u001b[0;32m~/anaconda3/envs/tf/lib/python3.6/site-packages/tensorflow/python/client/session.py\u001b[0m in \u001b[0;36m_extend_graph\u001b[0;34m(self)\u001b[0m\n\u001b[1;32m   1338\u001b[0m     \u001b[0;32mif\u001b[0m \u001b[0mself\u001b[0m\u001b[0;34m.\u001b[0m\u001b[0m_created_with_new_api\u001b[0m\u001b[0;34m:\u001b[0m\u001b[0;34m\u001b[0m\u001b[0m\n\u001b[1;32m   1339\u001b[0m       \u001b[0;32mwith\u001b[0m \u001b[0mself\u001b[0m\u001b[0;34m.\u001b[0m\u001b[0m_graph\u001b[0m\u001b[0;34m.\u001b[0m\u001b[0m_lock\u001b[0m\u001b[0;34m:\u001b[0m  \u001b[0;31m# pylint: disable=protected-access\u001b[0m\u001b[0;34m\u001b[0m\u001b[0m\n\u001b[0;32m-> 1340\u001b[0;31m         \u001b[0mtf_session\u001b[0m\u001b[0;34m.\u001b[0m\u001b[0mExtendSession\u001b[0m\u001b[0;34m(\u001b[0m\u001b[0mself\u001b[0m\u001b[0;34m.\u001b[0m\u001b[0m_session\u001b[0m\u001b[0;34m)\u001b[0m\u001b[0;34m\u001b[0m\u001b[0m\n\u001b[0m\u001b[1;32m   1341\u001b[0m     \u001b[0;32melse\u001b[0m\u001b[0;34m:\u001b[0m\u001b[0;34m\u001b[0m\u001b[0m\n\u001b[1;32m   1342\u001b[0m       \u001b[0;31m# Ensure any changes to the graph are reflected in the runtime.\u001b[0m\u001b[0;34m\u001b[0m\u001b[0;34m\u001b[0m\u001b[0m\n",
      "\u001b[0;31mKeyboardInterrupt\u001b[0m: "
     ]
    }
   ],
   "source": [
    "losses = []\n",
    "\n",
    "for i in range(15000):\n",
    "    sess.run(d_train)\n",
    "    sess.run(g_train)\n",
    "\n",
    "    if i % 10 == 0:\n",
    "        cur_g_loss = sess.run(g_loss)\n",
    "        losses.append(cur_g_loss)\n",
    "\n",
    "    if i % 50 == 0:\n",
    "        cur_d_loss = sess.run(d_loss)\n",
    "        print(\"Step {}, DLoss: {}, GLoss: {}\".format(i, cur_d_loss, cur_g_loss))\n",
    "        g = generator(tf.random_normal(dtype=tf.float32, shape=(1, LATENT_SPACE)), True)\n",
    "        output = sess.run(g)\n",
    "        plt.matshow(output.reshape((60, 120)))\n",
    "        plt.savefig('./images/{}.png'.format(i))\n",
    "        plt.close()\n",
    "\n",
    "plt.plot(range(len(losses)), losses)\n",
    "plt.savefig('./images/loss.png')\n",
    "plt.close()"
   ]
  }
 ],
 "metadata": {
  "kernelspec": {
   "display_name": "Python3 (tensorflow)",
   "language": "python",
   "name": "tf"
  },
  "language_info": {
   "codemirror_mode": {
    "name": "ipython",
    "version": 3
   },
   "file_extension": ".py",
   "mimetype": "text/x-python",
   "name": "python",
   "nbconvert_exporter": "python",
   "pygments_lexer": "ipython3",
   "version": "3.6.5"
  },
  "name": "Untitled1.ipynb"
 },
 "nbformat": 4,
 "nbformat_minor": 2
}
